{
 "cells": [
  {
   "cell_type": "markdown",
   "id": "41b4ac83",
   "metadata": {},
   "source": [
    "# Question1\n",
    "Find out all the types of error that we have encountered in our lecture and why? Also include the examples."
   ]
  },
  {
   "cell_type": "code",
   "execution_count": 1,
   "id": "60b65349",
   "metadata": {},
   "outputs": [
    {
     "name": "stdout",
     "output_type": "stream",
     "text": [
      "Name: Kundan\n",
      "place: Bangalore\n",
      "year_of_birth: 1991\n"
     ]
    },
    {
     "ename": "TypeError",
     "evalue": "unsupported operand type(s) for -: 'int' and 'str'",
     "output_type": "error",
     "traceback": [
      "\u001b[1;31m---------------------------------------------------------------------------\u001b[0m",
      "\u001b[1;31mTypeError\u001b[0m                                 Traceback (most recent call last)",
      "Input \u001b[1;32mIn [1]\u001b[0m, in \u001b[0;36m<cell line: 5>\u001b[1;34m()\u001b[0m\n\u001b[0;32m      2\u001b[0m place \u001b[38;5;241m=\u001b[39m \u001b[38;5;28minput\u001b[39m(\u001b[38;5;124m\"\u001b[39m\u001b[38;5;124mplace: \u001b[39m\u001b[38;5;124m\"\u001b[39m)\n\u001b[0;32m      3\u001b[0m year_of_birth \u001b[38;5;241m=\u001b[39m \u001b[38;5;28minput\u001b[39m(\u001b[38;5;124m\"\u001b[39m\u001b[38;5;124myear_of_birth: \u001b[39m\u001b[38;5;124m\"\u001b[39m)\n\u001b[1;32m----> 5\u001b[0m age \u001b[38;5;241m=\u001b[39m \u001b[38;5;241;43m2022\u001b[39;49m\u001b[43m \u001b[49m\u001b[38;5;241;43m-\u001b[39;49m\u001b[43m \u001b[49m\u001b[43myear_of_birth\u001b[49m\n\u001b[0;32m      7\u001b[0m \u001b[38;5;28mprint\u001b[39m(\u001b[38;5;124mf\u001b[39m\u001b[38;5;124m\"\"\"\u001b[39m\n\u001b[0;32m      8\u001b[0m \u001b[38;5;124mMy name is: \u001b[39m\u001b[38;5;132;01m{\u001b[39;00mname\u001b[38;5;132;01m}\u001b[39;00m\n\u001b[0;32m      9\u001b[0m \u001b[38;5;124mI live at: \u001b[39m\u001b[38;5;132;01m{\u001b[39;00mplace\u001b[38;5;132;01m}\u001b[39;00m\n\u001b[0;32m     10\u001b[0m \u001b[38;5;132;01m{\u001b[39;00mname\u001b[38;5;132;01m}\u001b[39;00m\u001b[38;5;124m is of age: \u001b[39m\u001b[38;5;132;01m{\u001b[39;00mage\u001b[38;5;132;01m}\u001b[39;00m\n\u001b[0;32m     11\u001b[0m \u001b[38;5;124m\"\"\"\u001b[39m)\n",
      "\u001b[1;31mTypeError\u001b[0m: unsupported operand type(s) for -: 'int' and 'str'"
     ]
    }
   ],
   "source": [
    "name = input(\"Name: \") # always gives you string values\n",
    "place = input(\"place: \")\n",
    "year_of_birth = input(\"year_of_birth: \")\n",
    "\n",
    "age = 2022 - year_of_birth\n",
    "\n",
    "print(f\"\"\"\n",
    "My name is: {name}\n",
    "I live at: {place}\n",
    "{name} is of age: {age}\n",
    "\"\"\")"
   ]
  },
  {
   "cell_type": "markdown",
   "id": "0f8a4e8d",
   "metadata": {},
   "source": [
    "In above code error is - we cannot deduct integer and string (2022 -\"1991\")"
   ]
  },
  {
   "cell_type": "code",
   "execution_count": 15,
   "id": "edb0a194",
   "metadata": {},
   "outputs": [
    {
     "ename": "NameError",
     "evalue": "name 'test' is not defined",
     "output_type": "error",
     "traceback": [
      "\u001b[1;31m---------------------------------------------------------------------------\u001b[0m",
      "\u001b[1;31mNameError\u001b[0m                                 Traceback (most recent call last)",
      "Input \u001b[1;32mIn [15]\u001b[0m, in \u001b[0;36m<cell line: 1>\u001b[1;34m()\u001b[0m\n\u001b[1;32m----> 1\u001b[0m \u001b[38;5;28mprint\u001b[39m(\u001b[38;5;124m\"\u001b[39m\u001b[38;5;124mfirst\u001b[39m\u001b[38;5;124m\"\u001b[39m \u001b[38;5;241m+\u001b[39m \u001b[43mtest\u001b[49m)\n",
      "\u001b[1;31mNameError\u001b[0m: name 'test' is not defined"
     ]
    }
   ],
   "source": [
    "print(\"first\" + test)"
   ]
  },
  {
   "cell_type": "markdown",
   "id": "3c714498",
   "metadata": {},
   "source": [
    "#In the above error \"test\" is not defined or assigned to any variable so we cannot concatenate with any string."
   ]
  },
  {
   "cell_type": "code",
   "execution_count": 2,
   "id": "28c7adbe",
   "metadata": {},
   "outputs": [
    {
     "name": "stdout",
     "output_type": "stream",
     "text": [
      "Enter value of A: 12\n",
      "Enter value of B: 10\n"
     ]
    }
   ],
   "source": [
    "A = input(\"Enter value of A: \")\n",
    "B = input(\"Enter value of B: \")"
   ]
  },
  {
   "cell_type": "code",
   "execution_count": 5,
   "id": "9eacb0a4",
   "metadata": {},
   "outputs": [
    {
     "name": "stdout",
     "output_type": "stream",
     "text": [
      "Enter value of A: 10.2\n",
      "Enter value of B: 10.2\n"
     ]
    },
    {
     "ename": "ValueError",
     "evalue": "invalid literal for int() with base 10: '10.2'",
     "output_type": "error",
     "traceback": [
      "\u001b[1;31m---------------------------------------------------------------------------\u001b[0m",
      "\u001b[1;31mValueError\u001b[0m                                Traceback (most recent call last)",
      "Input \u001b[1;32mIn [5]\u001b[0m, in \u001b[0;36m<cell line: 2>\u001b[1;34m()\u001b[0m\n\u001b[0;32m      1\u001b[0m A \u001b[38;5;241m=\u001b[39m \u001b[38;5;28mfloat\u001b[39m(\u001b[38;5;28minput\u001b[39m(\u001b[38;5;124m\"\u001b[39m\u001b[38;5;124mEnter value of A: \u001b[39m\u001b[38;5;124m\"\u001b[39m))\n\u001b[1;32m----> 2\u001b[0m B \u001b[38;5;241m=\u001b[39m \u001b[38;5;28;43mint\u001b[39;49m\u001b[43m(\u001b[49m\u001b[38;5;28;43minput\u001b[39;49m\u001b[43m(\u001b[49m\u001b[38;5;124;43m\"\u001b[39;49m\u001b[38;5;124;43mEnter value of B: \u001b[39;49m\u001b[38;5;124;43m\"\u001b[39;49m\u001b[43m)\u001b[49m\u001b[43m)\u001b[49m \u001b[38;5;66;03m# 10.2 is float but converting to int\u001b[39;00m\n\u001b[0;32m      4\u001b[0m \u001b[38;5;28mprint\u001b[39m(\u001b[38;5;124mf\u001b[39m\u001b[38;5;124m\"\u001b[39m\u001b[38;5;124mSum of A and B is: \u001b[39m\u001b[38;5;132;01m{\u001b[39;00mA\u001b[38;5;241m+\u001b[39mB\u001b[38;5;132;01m}\u001b[39;00m\u001b[38;5;124m\"\u001b[39m)\n",
      "\u001b[1;31mValueError\u001b[0m: invalid literal for int() with base 10: '10.2'"
     ]
    }
   ],
   "source": [
    "A = float(input(\"Enter value of A: \"))\n",
    "B = int(input(\"Enter value of B: \")) # 10.2 is float but converting to int\n",
    "\n",
    "print(f\"Sum of A and B is: {A+B}\")"
   ]
  },
  {
   "cell_type": "markdown",
   "id": "53c9ce23",
   "metadata": {},
   "source": [
    "#In above error issue is - input is string \"10.2\" and we converting it to int instead of float, so first convert it to float and then int. "
   ]
  },
  {
   "cell_type": "code",
   "execution_count": 6,
   "id": "e5557cb7",
   "metadata": {},
   "outputs": [
    {
     "ename": "NameError",
     "evalue": "name 'Ten' is not defined",
     "output_type": "error",
     "traceback": [
      "\u001b[1;31m---------------------------------------------------------------------------\u001b[0m",
      "\u001b[1;31mNameError\u001b[0m                                 Traceback (most recent call last)",
      "Input \u001b[1;32mIn [6]\u001b[0m, in \u001b[0;36m<cell line: 4>\u001b[1;34m()\u001b[0m\n\u001b[0;32m      2\u001b[0m ten \u001b[38;5;241m=\u001b[39m \u001b[38;5;241m20\u001b[39m\n\u001b[0;32m      3\u001b[0m \u001b[38;5;66;03m# TEN and ten both are different in terms of lowercase and uppercase letter\u001b[39;00m\n\u001b[1;32m----> 4\u001b[0m \u001b[38;5;28mprint\u001b[39m(\u001b[43mTen\u001b[49m)\n",
      "\u001b[1;31mNameError\u001b[0m: name 'Ten' is not defined"
     ]
    }
   ],
   "source": [
    "TEN = 10\n",
    "ten = 20\n",
    "# TEN and ten both are different in terms of lowercase and uppercase letter\n",
    "print(Ten)"
   ]
  },
  {
   "cell_type": "markdown",
   "id": "df4509fe",
   "metadata": {},
   "source": [
    "#In above error issue is - case sensetive, variable starts with TEN is diffrent then \"ten\" and Ten is diffrent then other two, so what ever we are assigning we need to call the same."
   ]
  },
  {
   "cell_type": "markdown",
   "id": "d2bcb0e0",
   "metadata": {},
   "source": [
    "# Question2"
   ]
  },
  {
   "cell_type": "markdown",
   "id": "955286da",
   "metadata": {},
   "source": [
    "Take input A and B and print their sum, mul, div, square of the nos."
   ]
  },
  {
   "cell_type": "code",
   "execution_count": 7,
   "id": "a14f9993",
   "metadata": {},
   "outputs": [
    {
     "name": "stdout",
     "output_type": "stream",
     "text": [
      "Enter value of A: 10\n",
      "Enter value of B: 10\n",
      "Sum of A and B is: 20\n",
      "Multiplication of A and B is: 100\n",
      "Division of A and B is: 1.0\n",
      "Square of A and B is: 10000000000\n"
     ]
    }
   ],
   "source": [
    "A = int(input(\"Enter value of A: \"))\n",
    "B = int(input(\"Enter value of B: \"))\n",
    "\n",
    "print(f\"Sum of A and B is: {A+B}\")                 #Sum of A & B\n",
    "print(f\"Multiplication of A and B is: {A*B}\")      #Multiplication of A & B\n",
    "print(f\"Division of A and B is: {A/B}\")            #Division of A & B\n",
    "print(f\"Square of A and B is: {A**B}\")             #Square of A & B"
   ]
  },
  {
   "cell_type": "markdown",
   "id": "a423e6f9",
   "metadata": {},
   "source": [
    "# Question3"
   ]
  },
  {
   "cell_type": "markdown",
   "id": "27f55ed5",
   "metadata": {},
   "source": [
    "How many reserve keywords are there in python and why we should not use them as a variable name."
   ]
  },
  {
   "cell_type": "markdown",
   "id": "c46ce255",
   "metadata": {},
   "source": [
    "There are around 31 reserved keywords in python. Below are the keywords:\n",
    "\n",
    "and       del       from      not       while    \n",
    "as        elif      global    or        with     \n",
    "assert    else      if        pass      yield    \n",
    "break     except    import    print              \n",
    "class     exec      in        raise              \n",
    "continue  finally   is        return             \n",
    "def       for       lambda    try\n",
    "\n",
    "We should not use above keywords since python is already using it, if we use it chances are there we may not get the expected result and our automation may fail."
   ]
  },
  {
   "cell_type": "markdown",
   "id": "623dc01f",
   "metadata": {},
   "source": [
    "# Question4"
   ]
  },
  {
   "cell_type": "markdown",
   "id": "2cda5a04",
   "metadata": {},
   "source": [
    "Create email ids with the user inputs. in the following format - lastname.firstname@gmail.com"
   ]
  },
  {
   "cell_type": "code",
   "execution_count": 8,
   "id": "2358c04a",
   "metadata": {},
   "outputs": [
    {
     "name": "stdout",
     "output_type": "stream",
     "text": [
      "Enter your first name: kundan\n",
      "Enter your last name: pandey\n",
      "Hello kundan, your email id is: pandey.kundan@gmail.com\n"
     ]
    }
   ],
   "source": [
    "A = input(\"Enter your first name: \")\n",
    "B = input(\"Enter your last name: \")\n",
    "\n",
    "print(f\"Hello {A}, your email id is: {B}.{A}@gmail.com\")"
   ]
  },
  {
   "cell_type": "markdown",
   "id": "837c3b53",
   "metadata": {},
   "source": [
    "# Question5"
   ]
  },
  {
   "cell_type": "raw",
   "id": "3ce15556",
   "metadata": {},
   "source": [
    "#Try to print the following lines -\n",
    "#Hi I'm Sunny\n",
    "#My address is 22\\3\n",
    "#I earn 20$ daily."
   ]
  },
  {
   "cell_type": "code",
   "execution_count": 10,
   "id": "e102b157",
   "metadata": {},
   "outputs": [
    {
     "name": "stdout",
     "output_type": "stream",
     "text": [
      "Hi I'm Sunny\n",
      "My address is 22\\3\n",
      "I learn 20$ daily\n",
      "\n"
     ]
    }
   ],
   "source": [
    "print(\"\"\"Hi I'm Sunny\n",
    "My address is 22\\\\3\n",
    "I learn 20$ daily\n",
    "\"\"\")"
   ]
  },
  {
   "cell_type": "markdown",
   "id": "01e3273e",
   "metadata": {},
   "source": [
    "# Question6"
   ]
  },
  {
   "cell_type": "markdown",
   "id": "9731ac39",
   "metadata": {},
   "source": [
    "Take user input (name, address, date of birth etc) to fill a form for your college and print their email IDs"
   ]
  },
  {
   "cell_type": "code",
   "execution_count": 11,
   "id": "3395e238",
   "metadata": {},
   "outputs": [
    {
     "name": "stdout",
     "output_type": "stream",
     "text": [
      "Name: kundan\n",
      "place: pandey\n",
      "year_of_birth: 1995\n",
      "congratulations!! kundan, your email id is: pandey.kundan@gmail.com\n"
     ]
    }
   ],
   "source": [
    "name = input(\"Name: \")\n",
    "address = input(\"place: \")\n",
    "year_of_birth = input(\"year_of_birth: \")\n",
    "print(f\"congratulations!! {name}, your email id is: {address}.{name}@gmail.com\")"
   ]
  },
  {
   "cell_type": "markdown",
   "id": "79a80a77",
   "metadata": {},
   "source": [
    "# Question7"
   ]
  },
  {
   "cell_type": "markdown",
   "id": "04942f78",
   "metadata": {},
   "source": [
    " Convert the following -"
   ]
  },
  {
   "cell_type": "markdown",
   "id": "d9bacd02",
   "metadata": {},
   "source": [
    "\"22.4\" into integer"
   ]
  },
  {
   "cell_type": "markdown",
   "id": "8f5e21ae",
   "metadata": {},
   "source": [
    "\"22\" into complex no."
   ]
  },
  {
   "cell_type": "code",
   "execution_count": 12,
   "id": "6f24cc6e",
   "metadata": {},
   "outputs": [
    {
     "name": "stdout",
     "output_type": "stream",
     "text": [
      "22\n"
     ]
    }
   ],
   "source": [
    "print(int(float(\"22.4\")))"
   ]
  },
  {
   "cell_type": "code",
   "execution_count": 18,
   "id": "9fee48c8",
   "metadata": {},
   "outputs": [
    {
     "name": "stdout",
     "output_type": "stream",
     "text": [
      "(22+0j)\n"
     ]
    }
   ],
   "source": [
    "print(complex(\"22\"))"
   ]
  },
  {
   "cell_type": "code",
   "execution_count": 19,
   "id": "b2ad1420",
   "metadata": {},
   "outputs": [
    {
     "name": "stdout",
     "output_type": "stream",
     "text": [
      "<class 'complex'>\n"
     ]
    }
   ],
   "source": [
    "print(type(complex(\"22\")))"
   ]
  },
  {
   "cell_type": "code",
   "execution_count": null,
   "id": "b7191d11",
   "metadata": {},
   "outputs": [],
   "source": []
  }
 ],
 "metadata": {
  "kernelspec": {
   "display_name": "Python 3 (ipykernel)",
   "language": "python",
   "name": "python3"
  },
  "language_info": {
   "codemirror_mode": {
    "name": "ipython",
    "version": 3
   },
   "file_extension": ".py",
   "mimetype": "text/x-python",
   "name": "python",
   "nbconvert_exporter": "python",
   "pygments_lexer": "ipython3",
   "version": "3.9.12"
  }
 },
 "nbformat": 4,
 "nbformat_minor": 5
}
