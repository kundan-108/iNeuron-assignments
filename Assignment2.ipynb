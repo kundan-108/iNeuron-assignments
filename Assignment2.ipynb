{
 "cells": [
  {
   "cell_type": "markdown",
   "id": "9fcb2d6b",
   "metadata": {},
   "source": [
    "# Question1"
   ]
  },
  {
   "cell_type": "markdown",
   "id": "d3598e79",
   "metadata": {},
   "source": [
    "1.What is indentation error? Why indentation is important? Give one simple example?"
   ]
  },
  {
   "cell_type": "markdown",
   "id": "9525672e",
   "metadata": {},
   "source": [
    "Indentation is the space after a condition line, it provides readers with a sense of continuity. It indicates that code will be executed only if above condition is true. It is important because if we don't give indentation machine will thing its a diffrent line and may through error or programe may not work as per expectation."
   ]
  },
  {
   "cell_type": "code",
   "execution_count": 1,
   "id": "adaab507",
   "metadata": {},
   "outputs": [
    {
     "name": "stdout",
     "output_type": "stream",
     "text": [
      "We need to stay at home today.\n"
     ]
    }
   ],
   "source": [
    "#Example of indentation\n",
    "its_raining = True\n",
    "\n",
    "if its_raining:\n",
    "    print(\"We need to stay at home today.\") # indentation line, if we don't give space then it will through error.\n",
    "else:\n",
    "    print(\"Lets go for outing today..\") # indentation line"
   ]
  },
  {
   "cell_type": "markdown",
   "id": "b6a7d662",
   "metadata": {},
   "source": [
    "# Question2"
   ]
  },
  {
   "cell_type": "markdown",
   "id": "3e36c2a5",
   "metadata": {},
   "source": [
    "2.Correct the following code and write the comment where you made the correction?"
   ]
  },
  {
   "cell_type": "code",
   "execution_count": 7,
   "id": "be1951b7",
   "metadata": {},
   "outputs": [
    {
     "name": "stdout",
     "output_type": "stream",
     "text": [
      "Hey friend, is class started?: [0-False/1-True]0\n",
      "Is class started: False\n",
      "Since class is not started...\n",
      "let's revise\n"
     ]
    }
   ],
   "source": [
    "#in below line -added int instead of bool to convert from string to int\n",
    "class_started = int(input(\"Hey friend, is class started?: [0-False/1-True]\")) \n",
    "# in below line - converted variable to bool\n",
    "class_started = bool(class_started)\n",
    "\n",
    "print(f\"Is class started: {class_started}\")\n",
    "\n",
    "if class_started:\n",
    "   print(\"Since class started...\")\n",
    "   print(\"Lets concentrate\")\n",
    "else:\n",
    "   print(\"Since class is not started...\")\n",
    "   print(\"let's revise\")"
   ]
  },
  {
   "cell_type": "markdown",
   "id": "e257ff23",
   "metadata": {},
   "source": [
    "# Question3"
   ]
  },
  {
   "cell_type": "markdown",
   "id": "294cdc80",
   "metadata": {},
   "source": [
    "3.Use if else condition to verify that dataype of input() method in python is always string."
   ]
  },
  {
   "cell_type": "code",
   "execution_count": 20,
   "id": "9512c6b6",
   "metadata": {},
   "outputs": [
    {
     "name": "stdout",
     "output_type": "stream",
     "text": [
      "Please type here.. 10\n",
      "Input value is not string\n"
     ]
    }
   ],
   "source": [
    "user_input = input(\"Please type here.. \")\n",
    "\n",
    "if type(user_input) is str:\n",
    "    print(\"Input value is a string\")\n",
    "else:\n",
    "    print(\"Input value is not string\")\n",
    "    \n"
   ]
  },
  {
   "cell_type": "markdown",
   "id": "2c0a50cd",
   "metadata": {},
   "source": [
    "# Question4"
   ]
  },
  {
   "cell_type": "markdown",
   "id": "c0378a2d",
   "metadata": {},
   "source": [
    "4.Take 3 variables and assign integer values to them. Find the largest variable, by only using the if and else conditions."
   ]
  },
  {
   "cell_type": "code",
   "execution_count": null,
   "id": "e4fae9ab",
   "metadata": {},
   "outputs": [],
   "source": [
    "# num1 = 10\n",
    "num2 = 50\n",
    "num3 = 80\n",
    "\n",
    "if num1 > num2:\n",
    "    if num1 > num3:\n",
    "        print(f\"The largest value is num1 and its value is: {num1}\")\n",
    "    else:\n",
    "        print(f\"The largest value is num3 and its value is: {num3}\")\n",
    "else:\n",
    "    if num2 > num1:\n",
    "        if num2 > num3:\n",
    "            print(f\"The largest value is num2 and its value is: {num2}\")\n",
    "        else:\n",
    "            print(f\"The largest value is num3 and its value is: {num3}\")\n"
   ]
  },
  {
   "cell_type": "markdown",
   "id": "bf3a8c45",
   "metadata": {},
   "source": [
    "# Question5"
   ]
  },
  {
   "cell_type": "markdown",
   "id": "78d72e18",
   "metadata": {},
   "source": [
    "5.What would be the solution?\n",
    "\n",
    "    1.True\n",
    "\n",
    "    2.False"
   ]
  },
  {
   "cell_type": "code",
   "execution_count": 21,
   "id": "b3b51c4e",
   "metadata": {},
   "outputs": [
    {
     "name": "stdout",
     "output_type": "stream",
     "text": [
      "False\n"
     ]
    }
   ],
   "source": [
    "a = 6\n",
    "b = 10\n",
    "print( not ( not a == 10 or not b == 10) )"
   ]
  },
  {
   "cell_type": "markdown",
   "id": "eccabf27",
   "metadata": {},
   "source": [
    "# Question6"
   ]
  },
  {
   "cell_type": "markdown",
   "id": "a9ee5531",
   "metadata": {},
   "source": [
    "6.Find the answer as well as find out the reason behind the result? -"
   ]
  },
  {
   "cell_type": "code",
   "execution_count": 26,
   "id": "5be84af2",
   "metadata": {},
   "outputs": [
    {
     "name": "stdout",
     "output_type": "stream",
     "text": [
      "False\n"
     ]
    }
   ],
   "source": [
    "#case 1:\n",
    "A = 5.0\n",
    "B = 10/2\n",
    "print(A is B)"
   ]
  },
  {
   "cell_type": "code",
   "execution_count": 24,
   "id": "bad2bccd",
   "metadata": {},
   "outputs": [
    {
     "data": {
      "text/plain": [
       "2599377546064"
      ]
     },
     "execution_count": 24,
     "metadata": {},
     "output_type": "execute_result"
    }
   ],
   "source": [
    "id(A)"
   ]
  },
  {
   "cell_type": "code",
   "execution_count": 25,
   "id": "9ab8ceeb",
   "metadata": {},
   "outputs": [
    {
     "data": {
      "text/plain": [
       "2599377544624"
      ]
     },
     "execution_count": 25,
     "metadata": {},
     "output_type": "execute_result"
    }
   ],
   "source": [
    "id(B)"
   ]
  },
  {
   "cell_type": "markdown",
   "id": "28aaeccb",
   "metadata": {},
   "source": [
    "Case 1 answer is \"False\" because both the ids are diffrent even though values are same. For \"IS\" condition both should be same value and id."
   ]
  },
  {
   "cell_type": "code",
   "execution_count": 27,
   "id": "e56ebcf6",
   "metadata": {},
   "outputs": [
    {
     "name": "stdout",
     "output_type": "stream",
     "text": [
      "False\n"
     ]
    }
   ],
   "source": [
    "#Case2\n",
    "A = 5.0\n",
    "B = int(10/2)\n",
    "print(A is B)"
   ]
  },
  {
   "cell_type": "code",
   "execution_count": 28,
   "id": "ffa66276",
   "metadata": {},
   "outputs": [
    {
     "data": {
      "text/plain": [
       "2599377543472"
      ]
     },
     "execution_count": 28,
     "metadata": {},
     "output_type": "execute_result"
    }
   ],
   "source": [
    "id(A)"
   ]
  },
  {
   "cell_type": "code",
   "execution_count": 29,
   "id": "8a84b277",
   "metadata": {},
   "outputs": [
    {
     "data": {
      "text/plain": [
       "2599266838960"
      ]
     },
     "execution_count": 29,
     "metadata": {},
     "output_type": "execute_result"
    }
   ],
   "source": [
    "id(B)"
   ]
  },
  {
   "cell_type": "markdown",
   "id": "9e0244a4",
   "metadata": {},
   "source": [
    "Case 2 answer is \"False\" because both the variables types are diffrent as well as ids are not same."
   ]
  },
  {
   "cell_type": "code",
   "execution_count": 30,
   "id": "8e296360",
   "metadata": {},
   "outputs": [
    {
     "name": "stdout",
     "output_type": "stream",
     "text": [
      "False\n"
     ]
    }
   ],
   "source": [
    "# Case3:\n",
    "A = 5.0\n",
    "B = float(10/2)\n",
    "print(A is B)"
   ]
  },
  {
   "cell_type": "code",
   "execution_count": 31,
   "id": "498ffdb4",
   "metadata": {},
   "outputs": [
    {
     "data": {
      "text/plain": [
       "2599377545552"
      ]
     },
     "execution_count": 31,
     "metadata": {},
     "output_type": "execute_result"
    }
   ],
   "source": [
    "id(A)"
   ]
  },
  {
   "cell_type": "code",
   "execution_count": 32,
   "id": "d4840353",
   "metadata": {},
   "outputs": [
    {
     "data": {
      "text/plain": [
       "2599377543472"
      ]
     },
     "execution_count": 32,
     "metadata": {},
     "output_type": "execute_result"
    }
   ],
   "source": [
    "id(B)"
   ]
  },
  {
   "cell_type": "markdown",
   "id": "dacc64df",
   "metadata": {},
   "source": [
    "Case 3 answer is \"False\" because both the variables as ids are not same even though values are same."
   ]
  },
  {
   "cell_type": "markdown",
   "id": "0435341c",
   "metadata": {},
   "source": [
    "# Question7"
   ]
  },
  {
   "cell_type": "markdown",
   "id": "efdb818c",
   "metadata": {},
   "source": [
    "7.Write a program that asks the user to enter a number. You should print out a message to the user, either “That number is divisible by either 3 or 5”, or “That number is not divisible by either 3 or 5”. Be sure to consider the data type of the input you are taking in from the user. Use a single if/else block to solve this problem."
   ]
  },
  {
   "cell_type": "code",
   "execution_count": 47,
   "id": "254381a4",
   "metadata": {},
   "outputs": [
    {
     "name": "stdout",
     "output_type": "stream",
     "text": [
      "Please enter a number: 15\n",
      "Your number 15 is divisible by either 3 or 5.\n"
     ]
    }
   ],
   "source": [
    "user_input = int(input(\"Please enter a number: \"))\n",
    "\n",
    "if (user_input%3) == 0 or (user_input%5) == 0:\n",
    "    print(f\"Your number {user_input} is divisible by either 3 or 5.\")\n",
    "else:\n",
    "    print(f\"Your number {user_input} is not divisible by either 3 or 5.\")\n",
    "    "
   ]
  },
  {
   "cell_type": "markdown",
   "id": "9295b28f",
   "metadata": {},
   "source": [
    "# Question8"
   ]
  },
  {
   "cell_type": "markdown",
   "id": "65f21fba",
   "metadata": {},
   "source": [
    "8.Take user input for length and width. Then calculate the area of rectangle. Also print as per length and width whether its a square of rectangle."
   ]
  },
  {
   "cell_type": "code",
   "execution_count": 6,
   "id": "66e54951",
   "metadata": {},
   "outputs": [
    {
     "name": "stdout",
     "output_type": "stream",
     "text": [
      "Please enter the length of rectangle: 10\n",
      "Please enter the width of rectangle: 15\n",
      "Yeah!! its a rectangle with an area of 150\n"
     ]
    }
   ],
   "source": [
    "user_input_length = int(input(\"Please enter the length of rectangle: \"))\n",
    "\n",
    "user_input_width = int(input(\"Please enter the width of rectangle: \"))\n",
    "\n",
    "area = user_input_length * user_input_width\n",
    "\n",
    "if user_input_length == user_input_width:\n",
    "    print(f\"Sorry!! its a square with an area of {area}\")\n",
    "else:\n",
    "     print(f\"Yeah!! its a rectangle with an area of {area}\")\n",
    "\n",
    "\n"
   ]
  },
  {
   "cell_type": "markdown",
   "id": "c89fa371",
   "metadata": {},
   "source": [
    "# Question9"
   ]
  },
  {
   "cell_type": "markdown",
   "id": "5ca58e61",
   "metadata": {},
   "source": [
    "9.Take two variable radius_1 and radius_2 and calculate the area of circle_1 and circle_2. Also print which circle has large area. If area is equal then print area is equal."
   ]
  },
  {
   "cell_type": "code",
   "execution_count": 9,
   "id": "6d82eb7b",
   "metadata": {},
   "outputs": [
    {
     "name": "stdout",
     "output_type": "stream",
     "text": [
      "Enter the radius of the circle1: 1.5\n",
      "Enter the radius of the circle2: 2\n",
      "Area of circle1 is: 4.7124\n",
      "Area of circle2 is: 6.2832\n",
      "Area of circle_2 is greater than the area of circle_1.\n"
     ]
    }
   ],
   "source": [
    "radius_1 = float(input(\"Enter the radius of the circle1: \"))\n",
    "radius_2 = float(input(\"Enter the radius of the circle2: \"))\n",
    "\n",
    "circle_1 = 3.1416 * radius_1\n",
    "circle_2 = 3.1416 * radius_2\n",
    "\n",
    "print(f\"Area of circle1 is: {circle_1}\")\n",
    "print(f\"Area of circle2 is: {circle_2}\")\n",
    "\n",
    "if circle_1 > circle_2:\n",
    "    print(\"Area of circle_1 is greater than the area of circle_2.\")\n",
    "elif circle_2 > circle_1:\n",
    "    print(\"Area of circle_2 is greater than the area of circle_1.\")\n",
    "else:\n",
    "    print(\"Area of circle_2 is equal to the area of circle_1.\")\n",
    "    \n",
    "    \n"
   ]
  },
  {
   "cell_type": "markdown",
   "id": "d5013815",
   "metadata": {},
   "source": [
    "# Question10"
   ]
  },
  {
   "cell_type": "markdown",
   "id": "b521ec53",
   "metadata": {},
   "source": [
    "10.Check whether a year is leap year or not. Use nested if...else to solve this problem. A leap year is exactly divisible by 4 except for century years (years ending with 00). The century year is a leap year only if it is perfectly divisible by 400."
   ]
  },
  {
   "cell_type": "code",
   "execution_count": 16,
   "id": "297ae5a5",
   "metadata": {},
   "outputs": [
    {
     "name": "stdout",
     "output_type": "stream",
     "text": [
      "Enter a year:2000\n",
      "The year 2000 is a leap year.\n"
     ]
    }
   ],
   "source": [
    "user_input_year = int(input(\"Enter a year:\"))\n",
    "\n",
    "if user_input_year % 4 == 0:\n",
    "    print(f\"The year {user_input_year} is a leap year.\")\n",
    "elif user_input_year % 400 == 0:\n",
    "    print(f\"The year {user_input_year} is a leap year.\")\n",
    "else:\n",
    "    print(f\"The year {user_input_year} is not a leap year.\")"
   ]
  },
  {
   "cell_type": "code",
   "execution_count": null,
   "id": "72bc097e",
   "metadata": {},
   "outputs": [],
   "source": []
  }
 ],
 "metadata": {
  "kernelspec": {
   "display_name": "Python 3 (ipykernel)",
   "language": "python",
   "name": "python3"
  },
  "language_info": {
   "codemirror_mode": {
    "name": "ipython",
    "version": 3
   },
   "file_extension": ".py",
   "mimetype": "text/x-python",
   "name": "python",
   "nbconvert_exporter": "python",
   "pygments_lexer": "ipython3",
   "version": "3.9.12"
  }
 },
 "nbformat": 4,
 "nbformat_minor": 5
}
