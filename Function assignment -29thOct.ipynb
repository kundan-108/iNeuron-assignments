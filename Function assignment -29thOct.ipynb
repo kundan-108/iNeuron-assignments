{
 "cells": [
  {
   "cell_type": "markdown",
   "id": "c8d08447",
   "metadata": {},
   "source": [
    "1. write a function which will try to find out len of a string without using an inbuilt len function \n",
    "2. write a function which  will be able to print an index of list element without using an index function\n",
    "3. write a function which will be able to print an ip address of your system\n",
    "4. write a function which will shutdown your system\n",
    "5. write a function which will take input as a list with any kind of numeric value and give an out as a multiplication of \n",
    "all the numeric data l = [3.5, 6.56, 4,5,\"sudh\" , \"ineuron\" , 'fsda bootcamp 2.0']\n",
    "6. write a function which will be able to read all the mails \n",
    "7. write a function which will be able to send a mail to anyone \n",
    "8. write a function which will be able to read a doc/word file from your system \n",
    "\n",
    "you are suppose to complete this by oct 30th before your \n",
    "live class and you have to send a solution at mail id - query@ineuron.ai\n",
    "submit your git link to mail\n",
    "\n",
    "----------------------------------------------------------------------------------------------------------\n"
   ]
  },
  {
   "cell_type": "markdown",
   "id": "dcfeb8b9",
   "metadata": {},
   "source": [
    "# Question 1"
   ]
  },
  {
   "cell_type": "markdown",
   "id": "6d716793",
   "metadata": {},
   "source": [
    "1.Write a function which will try to find out len of a string without using an inbuilt len function."
   ]
  },
  {
   "cell_type": "code",
   "execution_count": 8,
   "id": "1f32df21",
   "metadata": {},
   "outputs": [],
   "source": [
    "def count_fun(a):\n",
    "    \"\"\"This function gives lenght of a string.\"\"\"\n",
    "    b = 0\n",
    "    for i in a:\n",
    "        b +=1\n",
    "    return b        "
   ]
  },
  {
   "cell_type": "code",
   "execution_count": 9,
   "id": "7ee3685c",
   "metadata": {},
   "outputs": [
    {
     "data": {
      "text/plain": [
       "6"
      ]
     },
     "execution_count": 9,
     "metadata": {},
     "output_type": "execute_result"
    }
   ],
   "source": [
    "count_fun(\"kundan\")"
   ]
  },
  {
   "cell_type": "markdown",
   "id": "bdb6289c",
   "metadata": {},
   "source": [
    "# Question 2"
   ]
  },
  {
   "cell_type": "markdown",
   "id": "0bbb180d",
   "metadata": {},
   "source": [
    "2.Write a function which will be able to print an index of list element without using an index function."
   ]
  },
  {
   "cell_type": "code",
   "execution_count": 17,
   "id": "fcad2a6a",
   "metadata": {},
   "outputs": [],
   "source": [
    "def index_fun(a):\n",
    "    \"\"\"This function gives index of list.\"\"\"\n",
    "    c = 0\n",
    "    b = []\n",
    "    for i in a:\n",
    "        index_place = str(i) + \" = \" + str(c)\n",
    "        b.append(index_place)\n",
    "        c = c + 1\n",
    "    return b "
   ]
  },
  {
   "cell_type": "code",
   "execution_count": 11,
   "id": "0f9b1da1",
   "metadata": {},
   "outputs": [],
   "source": [
    "ls = [1,5,7,9]"
   ]
  },
  {
   "cell_type": "code",
   "execution_count": 18,
   "id": "348a2a96",
   "metadata": {},
   "outputs": [
    {
     "data": {
      "text/plain": [
       "['1 = 0', '5 = 1', '7 = 2', '9 = 3']"
      ]
     },
     "execution_count": 18,
     "metadata": {},
     "output_type": "execute_result"
    }
   ],
   "source": [
    "index_fun(ls)"
   ]
  },
  {
   "cell_type": "markdown",
   "id": "74c61b32",
   "metadata": {},
   "source": [
    "# Question 5"
   ]
  },
  {
   "cell_type": "markdown",
   "id": "ad4a9a65",
   "metadata": {},
   "source": [
    "5.write a function which will take input as a list with any kind of numeric value and give an out as a multiplication of all the numeric data l = [3.5, 6.56, 4,5,\"sudh\" , \"ineuron\" , 'fsda bootcamp 2.0']"
   ]
  },
  {
   "cell_type": "code",
   "execution_count": 18,
   "id": "f9034427",
   "metadata": {},
   "outputs": [],
   "source": [
    "def multiplication_fun(a):\n",
    "    \"\"\"This function gives multiplication of numerical values in a list.\"\"\"\n",
    "    b = 1\n",
    "    for i in a:\n",
    "        if isinstance(i, int) or isinstance(i, float):\n",
    "            b = i * b\n",
    "                        \n",
    "    return b\n"
   ]
  },
  {
   "cell_type": "code",
   "execution_count": 10,
   "id": "072907b1",
   "metadata": {},
   "outputs": [],
   "source": [
    "l = [3.5, 6.56, 4,5,\"sudh\" , \"ineuron\" , 'fsda bootcamp 2.0']"
   ]
  },
  {
   "cell_type": "code",
   "execution_count": 16,
   "id": "f94b59ef",
   "metadata": {},
   "outputs": [
    {
     "data": {
      "text/plain": [
       "459.19999999999993"
      ]
     },
     "execution_count": 16,
     "metadata": {},
     "output_type": "execute_result"
    }
   ],
   "source": [
    "multiplication_fun(l)"
   ]
  },
  {
   "cell_type": "code",
   "execution_count": 19,
   "id": "c8aa46ce",
   "metadata": {},
   "outputs": [
    {
     "data": {
      "text/plain": [
       "'C:\\\\Users\\\\admin\\\\iNeuron Practice'"
      ]
     },
     "execution_count": 19,
     "metadata": {},
     "output_type": "execute_result"
    }
   ],
   "source": [
    "pwd"
   ]
  },
  {
   "cell_type": "code",
   "execution_count": null,
   "id": "e2728041",
   "metadata": {},
   "outputs": [],
   "source": []
  }
 ],
 "metadata": {
  "kernelspec": {
   "display_name": "Python 3 (ipykernel)",
   "language": "python",
   "name": "python3"
  },
  "language_info": {
   "codemirror_mode": {
    "name": "ipython",
    "version": 3
   },
   "file_extension": ".py",
   "mimetype": "text/x-python",
   "name": "python",
   "nbconvert_exporter": "python",
   "pygments_lexer": "ipython3",
   "version": "3.9.12"
  }
 },
 "nbformat": 4,
 "nbformat_minor": 5
}
